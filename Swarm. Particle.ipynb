{
  "cells": [
    {
      "cell_type": "code",
      "source": [
        "import random\n",
        "\n",
        "def fitness(x, y):\n",
        "    return x**2 + y**2\n",
        "\n",
        "w = 0.8\n",
        "c1 = 2\n",
        "c2 = 2\n",
        "num_particles = 5\n",
        "iterations = 3\n",
        "\n",
        "particles = []\n",
        "for _ in range(num_particles):\n",
        "    x = random.uniform(-2, 2)\n",
        "    y = random.uniform(-2, 2)\n",
        "    vx = random.uniform(-1, 1)\n",
        "    vy = random.uniform(-1, 1)\n",
        "    particles.append({\n",
        "        \"position\": [x, y],\n",
        "        \"velocity\": [vx, vy],\n",
        "        \"pbest_pos\": [x, y],\n",
        "        \"pbest_val\": fitness(x, y)\n",
        "    })\n",
        "\n",
        "gbest_pos = min(particles, key=lambda p: p[\"pbest_val\"])[\"pbest_pos\"]\n",
        "gbest_val = min(particles, key=lambda p: p[\"pbest_val\"])[\"pbest_val\"]\n",
        "\n",
        "print(\"Name: Soham Arora\")\n",
        "print(\"USN: 1BM23CS334\")\n",
        "print(\"Implementing Particle Swarm Optimization (PSO) for De Jong's function\")\n",
        "\n",
        "for t in range(iterations):\n",
        "    print(f\"\\nIteration {t+1}\")\n",
        "\n",
        "    for i, p in enumerate(particles):\n",
        "        x, y = p[\"position\"]\n",
        "        vx, vy = p[\"velocity\"]\n",
        "\n",
        "        current_val = fitness(x, y)\n",
        "\n",
        "        if current_val < p[\"pbest_val\"]:\n",
        "            p[\"pbest_pos\"] = [x, y]\n",
        "            p[\"pbest_val\"] = current_val\n",
        "\n",
        "        if current_val < gbest_val:\n",
        "            gbest_pos = [x, y]\n",
        "            gbest_val = current_val\n",
        "\n",
        "    for i, p in enumerate(particles):\n",
        "        x, y = p[\"position\"]\n",
        "        vx, vy = p[\"velocity\"]\n",
        "\n",
        "        r1, r2 = random.random(), random.random()\n",
        "\n",
        "        vx = w * vx + c1 * r1 * (p[\"pbest_pos\"][0] - x) + c2 * r2 * (gbest_pos[0] - x)\n",
        "        vy = w * vy + c1 * r1 * (p[\"pbest_pos\"][1] - y) + c2 * r2 * (gbest_pos[1] - y)\n",
        "\n",
        "        x = x + vx\n",
        "        y = y + vy\n",
        "\n",
        "        p[\"velocity\"] = [vx, vy]\n",
        "        p[\"position\"] = [x, y]\n",
        "\n",
        "    print(\"Particle | Position(x,y) | Velocity(vx,vy) | Fitness | pBest | gBest\")\n",
        "    for i, p in enumerate(particles):\n",
        "        print(f\"P{i+1}: pos={p['position']}, vel={p['velocity']}, \"\n",
        "              f\"fit={round(fitness(*p['position']),4)}, \"\n",
        "              f\"pbest={round(p['pbest_val'],4)}, gbest={round(gbest_val,4)}\")\n",
        "\n",
        "print(\"\\nFinal Global Best Position:\", gbest_pos)\n",
        "print(\"Final Global Best Fitness:\", gbest_val)"
      ],
      "metadata": {
        "colab": {
          "base_uri": "https://localhost:8080/"
        },
        "id": "Ubx1kX7EueuT",
        "outputId": "088bee66-5c3e-4665-cce0-df5ec20dd346"
      },
      "execution_count": null,
      "outputs": [
        {
          "output_type": "stream",
          "name": "stdout",
          "text": [
            "Name: Soham Arora\n",
            "USN: 1BM23CS334\n",
            "Implementing Particle Swarm Optimization (PSO) for De Jong's function\n",
            "\n",
            "Iteration 1\n",
            "Particle | Position(x,y) | Velocity(vx,vy) | Fitness | pBest | gBest\n",
            "P1: pos=[-0.9274654925597099, 0.4915104483171968], vel=[-1.8511325008912276, 1.907547707106551], fit=1.1018, pbest=2.8583, gbest=0.3598\n",
            "P2: pos=[-0.11439160878927768, -0.8287083415953393], vel=[0.6154185370028159, 0.005007080557089427], fit=0.6998, pbest=1.2277, gbest=0.3598\n",
            "P3: pos=[-0.6112002585239329, 0.4396155565975056], vel=[-0.03923560585025659, 0.620408820815256], fit=0.5668, pbest=0.3598, gbest=0.3598\n",
            "P4: pos=[0.1433540793660324, 0.4287538424852728], vel=[1.2638846856854102, -0.2785961312833425], fit=0.2044, pbest=1.7559, gbest=0.3598\n",
            "P5: pos=[1.252666308811535, 1.18945079749976], vel=[-0.5943329238437397, 0.1748896479537173], fit=2.984, pbest=4.4407, gbest=0.3598\n",
            "\n",
            "Iteration 2\n",
            "Particle | Position(x,y) | Velocity(vx,vy) | Fitness | pBest | gBest\n",
            "P1: pos=[-1.5735950742279314, 1.9686255871347424], vel=[-0.6461295816682217, 1.4771151388175456], fit=6.3517, pbest=1.1018, gbest=0.2044\n",
            "P2: pos=[0.6006840042369057, 0.2619813097394146], vel=[0.7150756130261834, 1.090689651334754], fit=0.4295, pbest=0.6998, gbest=0.2044\n",
            "P3: pos=[-0.15214723580170952, -0.1111687574305611], vel=[0.45905302272222337, -0.5507843140280667], fit=0.0355, pbest=0.3598, gbest=0.2044\n",
            "P4: pos=[1.1544618279143606, 0.2058769374585988], vel=[1.0111077485483282, -0.222876905026674], fit=1.3752, pbest=0.2044, gbest=0.2044\n",
            "P5: pos=[-0.03305998895881945, 0.773736906598677], vel=[-1.2857262977703545, -0.4157138909010829], fit=0.5998, pbest=2.984, gbest=0.2044\n",
            "\n",
            "Iteration 3\n",
            "Particle | Position(x,y) | Velocity(vx,vy) | Fitness | pBest | gBest\n",
            "P1: pos=[-0.8163340452028951, 0.6145978879093397], vel=[0.7572610290250363, -1.3540276992254028], fit=1.0441, pbest=1.1018, gbest=0.0355\n",
            "P2: pos=[-0.18277872973716502, 0.46265126590129024], vel=[-0.7834627339740707, 0.20066995616187566], fit=0.2475, pbest=0.4295, gbest=0.0355\n",
            "P3: pos=[0.21509518237606917, -0.5517962086530145], vel=[0.3672424181777787, -0.4406274512224534], fit=0.3507, pbest=0.0355, gbest=0.0355\n",
            "P4: pos=[-0.869030164808831, -0.10585616412801702], vel=[-2.0234919927231916, -0.3117331015866158], fit=0.7664, pbest=0.2044, gbest=0.0355\n",
            "P5: pos=[-1.2234503483076573, -0.7611962436947435], vel=[-1.1903903593488379, -1.5349331502934205], fit=2.0763, pbest=0.5998, gbest=0.0355\n",
            "\n",
            "Final Global Best Position: [-0.15214723580170952, -0.1111687574305611]\n",
            "Final Global Best Fitness: 0.03550727399075593\n"
          ]
        }
      ]
    },
    {
      "cell_type": "code",
      "source": [],
      "metadata": {
        "id": "ViQ_TrHRvp25"
      },
      "execution_count": null,
      "outputs": []
    },
    {
      "cell_type": "code",
      "source": [],
      "metadata": {
        "id": "doemPPVavtU9"
      },
      "execution_count": null,
      "outputs": []
    }
  ],
  "metadata": {
    "colab": {
      "provenance": []
    },
    "kernelspec": {
      "display_name": "Python 3",
      "name": "python3"
    }
  },
  "nbformat": 4,
  "nbformat_minor": 0
}